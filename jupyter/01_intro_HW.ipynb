{
 "cells": [
  {
   "cell_type": "markdown",
   "metadata": {
    "id": "xprVSBXnQ9ck"
   },
   "source": [
    "## Всем привет. Попробуйте порешать задачки. Если будут вопросы обсудим в начале следующего урока :)\n",
    "\n",
    "**Sample input** - это пример того, что будет принимать функция `input()`\n",
    "\n",
    "**Sample output** - это пример того, что должна программа возвращать `print()`\n"
   ]
  },
  {
   "cell_type": "markdown",
   "metadata": {
    "id": "HLeD96QMQ9cq"
   },
   "source": [
    "## 1. Напишите программу, которая напечатает букву \"A\" (латинскую) 133 раза подряд.\n",
    "\n",
    "Используйте смекалку, а не трудолюбие.\n",
    "\n",
    "Латинская A, а не русская А.  Обратите внимание на раскладку клавиатуры.\n",
    "\n",
    "\n",
    "\n",
    "**`Sample Output:`**\n",
    "\n",
    "`AAAAAAAAAAAAAAAAAAAAAAAAAAAAAAAAAAAAAAAAAAAAAAAAAAAAAAAAAAAAAAAAAAAAAAAAAAAAAAAAAAAAAAAAAAAAAAAAAAAAAAAAAAA`"
   ]
  },
  {
   "cell_type": "code",
   "execution_count": 1,
   "metadata": {
    "id": "6iLdmuyLQ9cq"
   },
   "outputs": [
    {
     "name": "stdout",
     "output_type": "stream",
     "text": [
      "AAAAAAAAAAAAAAAAAAAAAAAAAAAAAAAAAAAAAAAAAAAAAAAAAAAAAAAAAAAAAAAAAAAAAAAAAAAAAAAAAAAAAAAAAAAAAAAAAAAAAAAAAAAAAAAAAAAAAAAAAAAAAAAAAAAAA\n"
     ]
    }
   ],
   "source": [
    "print(\"A\" * 133)\n",
    "\n"
   ]
  },
  {
   "cell_type": "markdown",
   "metadata": {
    "id": "5hRU3oT-Q9cr"
   },
   "source": [
    "## 2. Прочитайте строку, введенную пользователем. Напечатайте её три раза подряд.\n",
    "\n",
    "`Подсказка: используйте функцию input.`\n",
    "\n",
    "**Sample Input:**\n",
    "\n",
    "`Python`\n",
    "\n",
    "**Sample Output:**\n",
    "\n",
    "`PythonPythonPython`"
   ]
  },
  {
   "cell_type": "code",
   "execution_count": 2,
   "metadata": {
    "id": "_t_gBeD4Q9cr"
   },
   "outputs": [
    {
     "name": "stdout",
     "output_type": "stream",
     "text": [
      "qwerty\n",
      "qwertyqwertyqwerty\n"
     ]
    }
   ],
   "source": [
    "strg = str(input())\n",
    "print(strg * 3)\n"
   ]
  },
  {
   "cell_type": "markdown",
   "metadata": {
    "id": "w3VezZhBQ9cs"
   },
   "source": [
    "## 3. Напечатайте букву \"A\" (латинскую) k раз подряд. Число k подается на вход.\n",
    "\n",
    "Латинская A, а не русская А.  Обратите внимание на раскладку клавиатуры.\n",
    "\n",
    "`Подсказка: используйте функцию input.`\n",
    "\n",
    "**Sample Input:**\n",
    "\n",
    "`3`\n",
    "\n",
    "**Sample Output:**\n",
    "\n",
    "`AAA`"
   ]
  },
  {
   "cell_type": "code",
   "execution_count": 3,
   "metadata": {
    "id": "uyAk_ZgpQ9cs"
   },
   "outputs": [
    {
     "name": "stdout",
     "output_type": "stream",
     "text": [
      "34\n",
      "AAAAAAAAAAAAAAAAAAAAAAAAAAAAAAAAAA\n"
     ]
    }
   ],
   "source": [
    "k = int(input())\n",
    "print(\"A\" * k)"
   ]
  },
  {
   "cell_type": "markdown",
   "metadata": {
    "id": "NTC-8ve_Q9cs"
   },
   "source": [
    "## 4. На вход подаются два числа x, y. Умножьте 3 на x и запишите результат y раз подряд.\n",
    "\n",
    "`Подсказка: используйте функцию input.`\n",
    "\n",
    "**Sample Input:**\n",
    "\n",
    "`3`\n",
    "\n",
    "`2`\n",
    "\n",
    "**Sample Output:**\n",
    "\n",
    "`99`"
   ]
  },
  {
   "cell_type": "code",
   "execution_count": 4,
   "metadata": {
    "colab": {
     "base_uri": "https://localhost:8080/"
    },
    "executionInfo": {
     "elapsed": 6543,
     "status": "ok",
     "timestamp": 1618838094203,
     "user": {
      "displayName": "Subanbek Atalov",
      "photoUrl": "",
      "userId": "10272066776599577598"
     },
     "user_tz": -360
    },
    "id": "sm9ylOCQRAKB",
    "outputId": "ab3f9297-6d5d-4ec0-cb5c-82d9d303f4c4"
   },
   "outputs": [
    {
     "name": "stdout",
     "output_type": "stream",
     "text": [
      "4\n",
      "3\n",
      "121212\n"
     ]
    }
   ],
   "source": [
    "x = int(input())\n",
    "y = int(input())\n",
    "print(str(3 * x)*y)"
   ]
  },
  {
   "cell_type": "code",
   "execution_count": null,
   "metadata": {},
   "outputs": [],
   "source": []
  }
 ],
 "metadata": {
  "colab": {
   "name": "01_intro_HW.ipynb",
   "provenance": []
  },
  "kernelspec": {
   "display_name": "Python 3",
   "language": "python",
   "name": "python3"
  },
  "language_info": {
   "codemirror_mode": {
    "name": "ipython",
    "version": 3
   },
   "file_extension": ".py",
   "mimetype": "text/x-python",
   "name": "python",
   "nbconvert_exporter": "python",
   "pygments_lexer": "ipython3",
   "version": "3.7.3"
  }
 },
 "nbformat": 4,
 "nbformat_minor": 1
}
