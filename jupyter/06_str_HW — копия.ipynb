{
 "cells": [
  {
   "cell_type": "markdown",
   "metadata": {},
   "source": [
    "## 1. Дана строка. \"Abrakadabra\"\n",
    "\n",
    "Сначала выведите третий символ этой строки.\n",
    "\n",
    "Во второй строке выведите предпоследний символ этой строки.\n",
    "\n",
    "В третьей строке выведите первые пять символов этой строки.\n",
    "\n",
    "В четвертой строке выведите всю строку, кроме последних двух символов.\n",
    "\n",
    "В пятой строке выведите все символы с четными индексами (считая, что индексация начинается с 0, поэтому символы выводятся начиная с первого).\n",
    "\n",
    "В шестой строке выведите все символы с нечетными индексами, то есть начиная со второго символа строки.\n",
    "\n",
    "В седьмой строке выведите все символы в обратном порядке.\n",
    "\n",
    "В восьмой строке выведите все символы строки через один в обратном порядке, начиная с последнего.\n",
    "\n",
    "В девятой строке выведите длину данной строки.\n",
    "\n",
    "`Примеры`\n",
    "\n",
    "`входные данные`\n",
    "\n",
    "`Abrakadabra`\n",
    "\n",
    "`выходные данные`\n",
    "\n",
    "`r`\n",
    "\n",
    "`r`\n",
    "\n",
    "`Abrak`\n",
    "\n",
    "`Abrakadab`\n",
    "\n",
    "`Arkdba`\n",
    "\n",
    "`baaar`\n",
    "\n",
    "`arbadakarbA`\n",
    "\n",
    "`abdkrA`\n",
    "\n",
    "`11`"
   ]
  },
  {
   "cell_type": "code",
   "execution_count": 19,
   "metadata": {},
   "outputs": [
    {
     "name": "stdout",
     "output_type": "stream",
     "text": [
      "r\n",
      "r\n",
      "Abrak\n",
      "Abrakadab\n",
      "Arkdba\n",
      "baaar\n",
      "arbadakarbA\n",
      "abdkrA\n",
      "11\n"
     ]
    }
   ],
   "source": [
    "word = 'Abrakadabra'\n",
    "print(word[2])\n",
    "print(word[-2])\n",
    "print(word[0:5])\n",
    "print(word[:-2])\n",
    "print(word[::2])\n",
    "print(word[1::2])\n",
    "print(word[::-1])\n",
    "print(word[::-2])\n",
    "print(len(word))"
   ]
  },
  {
   "cell_type": "markdown",
   "metadata": {},
   "source": [
    "## 2. Дана строка \"Hello, world!\". Переставьте эти слова местами. Результат запишите в строку и выведите получившуюся строку.\n",
    "\n",
    "`входные данные`\n",
    "\n",
    "`Hello, world!`\n",
    "\n",
    "`выходные данные`\n",
    "\n",
    "`world! Hello,`\n"
   ]
  },
  {
   "cell_type": "code",
   "execution_count": 20,
   "metadata": {},
   "outputs": [
    {
     "name": "stdout",
     "output_type": "stream",
     "text": [
      "world! Hello, \n"
     ]
    }
   ],
   "source": [
    "word2 = 'Hello, world!'\n",
    "out = word2[7:] + \" \" + word2[0:7]\n",
    "print(out)"
   ]
  },
  {
   "cell_type": "markdown",
   "metadata": {},
   "source": [
    "## 3. Дана строка \"1+1=2\". Замените в этой строке все цифры 1 на слово one.\n",
    "\n",
    "`входные данные`\n",
    "\n",
    "`1+1=2`\n",
    "\n",
    "`выходные данные`\n",
    "\n",
    "`one+one=2`\n"
   ]
  },
  {
   "cell_type": "code",
   "execution_count": 22,
   "metadata": {},
   "outputs": [
    {
     "name": "stdout",
     "output_type": "stream",
     "text": [
      "one+one=2\n"
     ]
    }
   ],
   "source": [
    "text = '1+1=2'\n",
    "out = (text.replace('1', 'one'))\n",
    "print(out)"
   ]
  },
  {
   "cell_type": "markdown",
   "metadata": {},
   "source": [
    "## 4. Прочитайте строку. Если это положительное целое число, то умножьте его на два. Если это любая другая строка, то повторите её два раза.\n",
    "\n",
    "`входные данные 1`\n",
    "\n",
    "`asdf`\n",
    "\n",
    "`выходные данные 1`\n",
    "\n",
    "`asdfasdf`\n",
    "\n",
    "`входные данные 2`\n",
    "\n",
    "`21`\n",
    "\n",
    "`выходные данные 2`\n",
    "\n",
    "`42`\n",
    "\n",
    "`входные данные 3`\n",
    "\n",
    "`2d`\n",
    "\n",
    "`выходные данные 3`\n",
    "\n",
    "`2d2d`\n"
   ]
  },
  {
   "cell_type": "code",
   "execution_count": 27,
   "metadata": {},
   "outputs": [
    {
     "name": "stdout",
     "output_type": "stream",
     "text": [
      "2\n",
      "4\n"
     ]
    }
   ],
   "source": [
    "a = input()\n",
    "if a.isdigit():\n",
    "    print(int(a) * 2)\n",
    "else:\n",
    "    print(a * 2)"
   ]
  },
  {
   "cell_type": "markdown",
   "metadata": {},
   "source": [
    "## 5. На вход принимаются две строки. Верните новую строку, где вторая строка будет ровно посередине первой строки (Если нечетное количество символов в первой строке, то вместо символа посередине).\n",
    "\n",
    "`входные данные`\n",
    "\n",
    "`s1 = \"Hello\"`\n",
    "\n",
    "`s2 = \"Kelly\"`\n",
    "\n",
    "`выходные данные`\n",
    "\n",
    "`HeKellylo`\n"
   ]
  },
  {
   "cell_type": "code",
   "execution_count": 29,
   "metadata": {},
   "outputs": [
    {
     "name": "stdout",
     "output_type": "stream",
     "text": [
      "Hello \n",
      "Kelly\n",
      "HelKellylo \n"
     ]
    }
   ],
   "source": [
    "s1 = input()\n",
    "s2 = input()\n",
    "\n",
    "out = s1[0:int(len(s1) / 2)] + s2 + s1[int(len(s1) / 2):]\n",
    "print(out)\n",
    "\n"
   ]
  },
  {
   "cell_type": "markdown",
   "metadata": {},
   "source": [
    "## 6. На вход подаются две строки. Выведите новую строку как смешанную двух строк. Например, сначала идет первый символ первой строки, далее первый символ второй строки, второй символ первой строки, второй символ второй строки и т.д.\n",
    "\n",
    "`входные данные`\n",
    "\n",
    "`ABC`\n",
    "\n",
    "`xyz`\n",
    "\n",
    "`выходные данные`\n",
    "\n",
    "`AxByCz`\n"
   ]
  },
  {
   "cell_type": "code",
   "execution_count": 31,
   "metadata": {},
   "outputs": [
    {
     "name": "stdout",
     "output_type": "stream",
     "text": [
      "ABC\n",
      "xyz\n",
      "AxByCz\n"
     ]
    }
   ],
   "source": [
    "s1 = input()\n",
    "s2 = input()\n",
    "out = \"\"\n",
    "i = 0\n",
    "while len(out) != len(s1)+len(s2):\n",
    "    out += s1[i]\n",
    "    out += s2[i]\n",
    "    i += 1\n",
    "    \n",
    "    if i == len(s1):\n",
    "        out += s2[i:]\n",
    "    elif i == len(s2):\n",
    "        out += s1[i:]\n",
    "print(out)"
   ]
  },
  {
   "cell_type": "markdown",
   "metadata": {},
   "source": [
    "## 7. На вход подаются две строки. Если количество символов в первой строке равно количеству символов второй строки, вывести `True`, иначе `False`.\n",
    "\n",
    "`входные данные`\n",
    "\n",
    "`ABC`\n",
    "\n",
    "`xyz`\n",
    "\n",
    "`выходные данные`\n",
    "\n",
    "`True`\n"
   ]
  },
  {
   "cell_type": "code",
   "execution_count": 35,
   "metadata": {},
   "outputs": [
    {
     "name": "stdout",
     "output_type": "stream",
     "text": [
      "ABC\n",
      "xyz\n",
      "True\n"
     ]
    }
   ],
   "source": [
    "s1 = input()\n",
    "s2 = input()\n",
    "\n",
    "if len(s1) == len(s2):\n",
    "    print('True')\n",
    "else:\n",
    "    print('False')"
   ]
  },
  {
   "cell_type": "markdown",
   "metadata": {},
   "source": [
    "## 8. На вход подается строка. Если в нем содержится буква `a` верните `True`, иначе `False`.\n",
    "\n",
    "`входные данные`\n",
    "\n",
    "`Barbershop`\n",
    "\n",
    "`выходные данные`\n",
    "\n",
    "`True`\n"
   ]
  },
  {
   "cell_type": "code",
   "execution_count": 39,
   "metadata": {},
   "outputs": [
    {
     "name": "stdout",
     "output_type": "stream",
     "text": [
      "Barbershop\n",
      "True\n"
     ]
    }
   ],
   "source": [
    "word = input()\n",
    "\n",
    "if 'a' in word:\n",
    "    print('True')\n",
    "else:\n",
    "    print('False')"
   ]
  },
  {
   "cell_type": "code",
   "execution_count": null,
   "metadata": {},
   "outputs": [],
   "source": []
  }
 ],
 "metadata": {
  "kernelspec": {
   "display_name": "Python 3 (ipykernel)",
   "language": "python",
   "name": "python3"
  },
  "language_info": {
   "codemirror_mode": {
    "name": "ipython",
    "version": 3
   },
   "file_extension": ".py",
   "mimetype": "text/x-python",
   "name": "python",
   "nbconvert_exporter": "python",
   "pygments_lexer": "ipython3",
   "version": "3.8.10"
  }
 },
 "nbformat": 4,
 "nbformat_minor": 2
}
