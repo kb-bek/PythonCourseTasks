{
 "cells": [
  {
   "cell_type": "markdown",
   "metadata": {},
   "source": [
    "### 1 Серия задач\n",
    "\n",
    "Имеется строка"
   ]
  },
  {
   "cell_type": "code",
   "execution_count": 2,
   "metadata": {},
   "outputs": [],
   "source": [
    "planets = \"Меркурий Венера Марс Jupiter Сатурн Уран Нептун\""
   ]
  },
  {
   "cell_type": "markdown",
   "metadata": {},
   "source": [
    "Сделайте из него список (.split()) и сохраните как planet_list."
   ]
  },
  {
   "cell_type": "code",
   "execution_count": 25,
   "metadata": {},
   "outputs": [
    {
     "name": "stdout",
     "output_type": "stream",
     "text": [
      "['Меркурий', 'Венера', 'Марс', 'Jupiter', 'Сатурн', 'Уран', 'Нептун', 'Плутон']\n"
     ]
    }
   ],
   "source": [
    "planets = \"Меркурий Венера Марс Jupiter Сатурн Уран Нептун\"\n",
    "planet_list = planets.split()\n",
    "planet_list.append('Плутон')\n",
    "print(planet_list)"
   ]
  },
  {
   "cell_type": "markdown",
   "metadata": {},
   "source": [
    "Добавьте в этот список последним \"Плутон\""
   ]
  },
  {
   "cell_type": "code",
   "execution_count": 27,
   "metadata": {},
   "outputs": [
    {
     "name": "stdout",
     "output_type": "stream",
     "text": [
      "['Меркурий', 'Венера', 'Земля', 'Марс', 'Jupiter', 'Сатурн', 'Уран', 'Нептун', 'Плутон']\n"
     ]
    }
   ],
   "source": [
    "planet_list.insert(2, 'Земля')\n",
    "print(planet_list)"
   ]
  },
  {
   "cell_type": "markdown",
   "metadata": {},
   "source": [
    "Между \"Венера\" и \"Марс\" добавьте \"Земля\""
   ]
  },
  {
   "cell_type": "code",
   "execution_count": 30,
   "metadata": {},
   "outputs": [
    {
     "name": "stdout",
     "output_type": "stream",
     "text": [
      "['Меркурий', 'Венера', 'Земля', 'Марс', 'Юпитер', 'Сатурн', 'Уран', 'Нептун', 'Плутон']\n"
     ]
    }
   ],
   "source": [
    "planet_list[4] = 'Юпитер'\n",
    "print(planet_list)"
   ]
  },
  {
   "cell_type": "markdown",
   "metadata": {},
   "source": [
    "\"Jupiter\" переименуйте на \"Юпитер\" одной строкой кода"
   ]
  },
  {
   "cell_type": "code",
   "execution_count": 31,
   "metadata": {},
   "outputs": [
    {
     "name": "stdout",
     "output_type": "stream",
     "text": [
      "['Меркурий', 'Венера', 'Земля', 'Марс', 'Юпитер', 'Сатурн', 'Уран', 'Нептун']\n"
     ]
    }
   ],
   "source": [
    "planet_list.remove('Плутон')\n",
    "print(planet_list)"
   ]
  },
  {
   "cell_type": "markdown",
   "metadata": {},
   "source": [
    "Оказывается Плутон не планета. Удалите \"Плутон\" из нашего списка."
   ]
  },
  {
   "cell_type": "code",
   "execution_count": 34,
   "metadata": {},
   "outputs": [
    {
     "name": "stdout",
     "output_type": "stream",
     "text": [
      "8\n"
     ]
    }
   ],
   "source": [
    "print(len(planet_list))"
   ]
  },
  {
   "cell_type": "markdown",
   "metadata": {},
   "source": [
    "Выведите количество планет в списке."
   ]
  },
  {
   "cell_type": "code",
   "execution_count": 37,
   "metadata": {},
   "outputs": [
    {
     "name": "stdout",
     "output_type": "stream",
     "text": [
      "['Венера', 'Земля', 'Марс']\n"
     ]
    }
   ],
   "source": [
    "slice_obj = slice(1, 4)\n",
    "print(planet_list[slice_obj])"
   ]
  },
  {
   "cell_type": "markdown",
   "metadata": {},
   "source": [
    "Покажите, используя срезы (slices) три планеты - Венера, Земля, Марс"
   ]
  },
  {
   "cell_type": "code",
   "execution_count": 41,
   "metadata": {},
   "outputs": [
    {
     "name": "stdout",
     "output_type": "stream",
     "text": [
      "['Уран', 'Нептун']\n"
     ]
    }
   ],
   "source": [
    "slice_obj2 = slice(6, 8)\n",
    "print(planet_list[slice_obj2])"
   ]
  },
  {
   "cell_type": "markdown",
   "metadata": {},
   "source": [
    "Используя срезу покажите две последние планеты"
   ]
  },
  {
   "cell_type": "code",
   "execution_count": null,
   "metadata": {},
   "outputs": [],
   "source": []
  },
  {
   "cell_type": "markdown",
   "metadata": {},
   "source": [
    "### 2 Серия задач\n",
    "\n",
    "Имеется таблица:\n",
    "\n",
    "|  Student | Mark |\n",
    "| --- | --- |\n",
    "| Джон | 4 |\n",
    "| Сара | 5 |\n",
    "| Девид | 5 |\n",
    "| Марк | 3 |\n",
    "| Клара | 2 |\n",
    "| Сэм | 2 |\n",
    "| Санта | 4 |\n",
    "| Крис | 5 |\n",
    "| Джастин | 4 |\n",
    "\n",
    "Имеются два столбца. Создайте два списка (Student и Mark). В первом будут имена студентов по порядку, указанному в таблице. Во втором списке в таком же порядке их оценки."
   ]
  },
  {
   "cell_type": "code",
   "execution_count": null,
   "metadata": {},
   "outputs": [],
   "source": [
    "# Создайте здесь списки\n",
    "student = ['Джон', \"Сара\", \"Девид\", \"Марк\", \"Клара\", \"Сэм\", \"Санта\", \"Крис\", \"Джастин\"]\n",
    "mark = [4, 5, 5, 3, 2, 2, 4, 5, 4]\n"
   ]
  },
  {
   "cell_type": "markdown",
   "metadata": {},
   "source": [
    "Добавился студент по имени Рассел и с оценкой 5. Добавьте его имя и оценки в соответствующие списки."
   ]
  },
  {
   "cell_type": "code",
   "execution_count": 43,
   "metadata": {},
   "outputs": [
    {
     "name": "stdout",
     "output_type": "stream",
     "text": [
      "['Джон', 'Сара', 'Девид', 'Марк', 'Клара', 'Сэм', 'Санта', 'Крис', 'Джастин', 'Рассел']\n",
      "[4, 5, 5, 3, 2, 2, 4, 5, 4, 5]\n"
     ]
    }
   ],
   "source": [
    "student = ['Джон', \"Сара\", \"Девид\", \"Марк\", \"Клара\", \"Сэм\", \"Санта\", \"Крис\", \"Джастин\"]\n",
    "mark = [4, 5, 5, 3, 2, 2, 4, 5, 4]\n",
    "\n",
    "student.append('Рассел')\n",
    "mark.append(5)\n",
    "print(student)\n",
    "print(mark)"
   ]
  },
  {
   "cell_type": "markdown",
   "metadata": {},
   "source": [
    "Выведите количество студентов в списке"
   ]
  },
  {
   "cell_type": "code",
   "execution_count": 44,
   "metadata": {},
   "outputs": [
    {
     "name": "stdout",
     "output_type": "stream",
     "text": [
      "10\n"
     ]
    }
   ],
   "source": [
    "print(len(student))"
   ]
  },
  {
   "cell_type": "markdown",
   "metadata": {},
   "source": [
    "Проверьте, имеется ли в списке студентов студент по имени Марк. Если ИСТИНА, выведите \"да\", иначе \"нет\"."
   ]
  },
  {
   "cell_type": "code",
   "execution_count": 46,
   "metadata": {},
   "outputs": [
    {
     "name": "stdout",
     "output_type": "stream",
     "text": [
      "да\n"
     ]
    }
   ],
   "source": [
    "if 'Марк' in student:\n",
    "    print('да')\n",
    "else:\n",
    "    print('нет')"
   ]
  },
  {
   "cell_type": "markdown",
   "metadata": {},
   "source": [
    "Пробежитесь в цикле и выведите из двух списков значения таким образом, чтобы на каждой строке печаталось по следущему образцу:\n",
    "\n",
    "\"У студента по имени Джастин 4 балла\""
   ]
  },
  {
   "cell_type": "code",
   "execution_count": 48,
   "metadata": {},
   "outputs": [
    {
     "name": "stdout",
     "output_type": "stream",
     "text": [
      "У студента по имени Джон 4 балла\n",
      "У студента по имени Сара 5 балла\n",
      "У студента по имени Девид 5 балла\n",
      "У студента по имени Марк 3 балла\n",
      "У студента по имени Клара 2 балла\n",
      "У студента по имени Сэм 2 балла\n",
      "У студента по имени Санта 4 балла\n",
      "У студента по имени Крис 5 балла\n",
      "У студента по имени Джастин 4 балла\n",
      "У студента по имени Рассел 5 балла\n"
     ]
    }
   ],
   "source": [
    "for i in range(len(student)):\n",
    "    print(f'У студента по имени {student[i]} {mark[i]} балла')"
   ]
  },
  {
   "cell_type": "markdown",
   "metadata": {},
   "source": [
    "Создайте копии списков: Student_2, Mark_2."
   ]
  },
  {
   "cell_type": "code",
   "execution_count": 54,
   "metadata": {},
   "outputs": [
    {
     "name": "stdout",
     "output_type": "stream",
     "text": [
      "['Джон', 'Сара', 'Девид', 'Марк', 'Клара', 'Сэм', 'Санта', 'Крис', 'Джастин', 'Рассел']\n",
      "[4, 5, 5, 3, 2, 2, 4, 5, 4, 5]\n"
     ]
    }
   ],
   "source": [
    "student_2 = student.copy()\n",
    "mark_2 = mark.copy()\n",
    "\n",
    "print(student_2)\n",
    "print(mark_2)"
   ]
  },
  {
   "cell_type": "markdown",
   "metadata": {},
   "source": [
    "Из оригинальных списков (не копий) удалите студентов и их оценки, если у них 2 балла. (можно вручную по одному, либо в цикле проверяя условие: если оценка == 2."
   ]
  },
  {
   "cell_type": "code",
   "execution_count": 55,
   "metadata": {},
   "outputs": [
    {
     "name": "stdout",
     "output_type": "stream",
     "text": [
      "['Джон', 'Сара', 'Девид', 'Марк', 'Санта', 'Крис', 'Джастин', 'Рассел']\n",
      "[4, 5, 5, 3, 4, 5, 4, 5]\n"
     ]
    }
   ],
   "source": [
    "student.pop(4)\n",
    "mark.pop(4)\n",
    "student.pop(4)\n",
    "mark.pop(4)\n",
    "print(student)\n",
    "print(mark)"
   ]
  },
  {
   "cell_type": "markdown",
   "metadata": {},
   "source": [
    "Выведите с 3 по 5 включительно имена студентов."
   ]
  },
  {
   "cell_type": "code",
   "execution_count": 57,
   "metadata": {},
   "outputs": [
    {
     "name": "stdout",
     "output_type": "stream",
     "text": [
      "['Марк', 'Санта', 'Крис']\n"
     ]
    }
   ],
   "source": [
    "slice_obj = slice(3,6)\n",
    "print(student[slice_obj])"
   ]
  },
  {
   "cell_type": "markdown",
   "metadata": {},
   "source": [
    "Выведите имена студентов через раз. Джон, Девид, Клара... и тд"
   ]
  },
  {
   "cell_type": "code",
   "execution_count": 56,
   "metadata": {},
   "outputs": [
    {
     "name": "stdout",
     "output_type": "stream",
     "text": [
      "Джон\n",
      "Девид\n",
      "Санта\n",
      "Джастин\n"
     ]
    }
   ],
   "source": [
    "for i in range(0, len(student), 2):\n",
    "    print(student[i])"
   ]
  },
  {
   "cell_type": "markdown",
   "metadata": {},
   "source": [
    "У вас сохранились копии списков (Student_2, Mark_2). Там в копии списков если оценка равна 2 - поставьте оценку 3."
   ]
  },
  {
   "cell_type": "code",
   "execution_count": 58,
   "metadata": {},
   "outputs": [
    {
     "name": "stdout",
     "output_type": "stream",
     "text": [
      "[4, 5, 5, 3, 3, 3, 4, 5, 4, 5]\n"
     ]
    }
   ],
   "source": [
    "mark_2[4] = 3\n",
    "mark_2[5] = 3\n",
    "print(mark_2)"
   ]
  },
  {
   "cell_type": "markdown",
   "metadata": {},
   "source": [
    "Посчитайте у скольких студентов оценка 5"
   ]
  },
  {
   "cell_type": "code",
   "execution_count": 59,
   "metadata": {},
   "outputs": [
    {
     "name": "stdout",
     "output_type": "stream",
     "text": [
      "4\n"
     ]
    }
   ],
   "source": [
    "print(mark.count(5))"
   ]
  },
  {
   "cell_type": "markdown",
   "metadata": {},
   "source": [
    "Выведите имена отличников (у кого 5). Через цикл и условие если оценка == 5."
   ]
  },
  {
   "cell_type": "code",
   "execution_count": 60,
   "metadata": {},
   "outputs": [
    {
     "name": "stdout",
     "output_type": "stream",
     "text": [
      "Сара\n",
      "Девид\n",
      "Крис\n",
      "Рассел\n"
     ]
    }
   ],
   "source": [
    "for i in range(len(mark)):\n",
    "    if mark[i] == 5:\n",
    "        print(student[i])"
   ]
  },
  {
   "cell_type": "code",
   "execution_count": null,
   "metadata": {},
   "outputs": [],
   "source": []
  }
 ],
 "metadata": {
  "kernelspec": {
   "display_name": "Python 3 (ipykernel)",
   "language": "python",
   "name": "python3"
  },
  "language_info": {
   "codemirror_mode": {
    "name": "ipython",
    "version": 3
   },
   "file_extension": ".py",
   "mimetype": "text/x-python",
   "name": "python",
   "nbconvert_exporter": "python",
   "pygments_lexer": "ipython3",
   "version": "3.8.10"
  }
 },
 "nbformat": 4,
 "nbformat_minor": 4
}
